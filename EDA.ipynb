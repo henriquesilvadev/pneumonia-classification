{
  "nbformat": 4,
  "nbformat_minor": 0,
  "metadata": {
    "colab": {
      "name": "EDA.ipynb",
      "provenance": [],
      "authorship_tag": "ABX9TyNly93qdOaHCWb9k0eb36DQ",
      "include_colab_link": true
    },
    "kernelspec": {
      "name": "python3",
      "display_name": "Python 3"
    }
  },
  "cells": [
    {
      "cell_type": "markdown",
      "metadata": {
        "id": "view-in-github",
        "colab_type": "text"
      },
      "source": [
        "<a href=\"https://colab.research.google.com/github/henriquehsilva/i2a2-brasil-pneumonia-classification/blob/master/EDA.ipynb\" target=\"_parent\"><img src=\"https://colab.research.google.com/assets/colab-badge.svg\" alt=\"Open In Colab\"/></a>"
      ]
    },
    {
      "cell_type": "code",
      "metadata": {
        "id": "fPXHcuthCU9a",
        "colab_type": "code",
        "colab": {}
      },
      "source": [
        "from IPython.display import HTML, Math, display"
      ],
      "execution_count": 1,
      "outputs": []
    },
    {
      "cell_type": "markdown",
      "metadata": {
        "id": "CzuiMdqRCjA2",
        "colab_type": "text"
      },
      "source": [
        "# Exploratory Data Analysis (EDA) - I2A2 Brasil - Pneumonia Classification\n",
        "### Classify each chest x-ray between normal and pneumonia"
      ]
    },
    {
      "cell_type": "markdown",
      "metadata": {
        "id": "Cwx_HMOpDBO3",
        "colab_type": "text"
      },
      "source": [
        "## Overview\n"
      ]
    },
    {
      "cell_type": "markdown",
      "metadata": {
        "id": "qkEOV6NODP74",
        "colab_type": "text"
      },
      "source": [
        "### Description\n",
        "\n",
        "In this competition, you should train a model that takes as input a Chest X-Ray and classify the image between normal and pneumonia."
      ]
    },
    {
      "cell_type": "markdown",
      "metadata": {
        "id": "MNlkmg23DWIY",
        "colab_type": "text"
      },
      "source": [
        "### Evaluation\n",
        "\n",
        "The evaluation metric for this competition is Mean F1-Score. The F1 score, commonly used in information retrieval, measures accuracy using the statistics precision p and recall r. Precision is the ratio of true positives (tp) to all predicted positives (tp + fp). Recall is the ratio of true positives to all actual positives (tp + fn). The F1 score is given by:"
      ]
    },
    {
      "cell_type": "code",
      "metadata": {
        "id": "k6qlYbzSDgUT",
        "colab_type": "code",
        "colab": {
          "base_uri": "https://localhost:8080/",
          "height": 40
        },
        "outputId": "5daf20c9-a14b-4974-9fb3-9194019d5399"
      },
      "source": [
        "Math(r'F1=2\\frac{p⋅r}{p+r} \\quad where \\quad  p=\\frac{tp}{tp+fp}, \\quad r=\\frac{tp}{tp+fn}')"
      ],
      "execution_count": 3,
      "outputs": [
        {
          "output_type": "execute_result",
          "data": {
            "text/latex": "$$F1=2\\frac{p⋅r}{p+r} \\quad where \\quad  p=\\frac{tp}{tp+fp}, \\quad r=\\frac{tp}{tp+fn}$$",
            "text/plain": [
              "<IPython.core.display.Math object>"
            ]
          },
          "metadata": {
            "tags": []
          },
          "execution_count": 3
        }
      ]
    },
    {
      "cell_type": "markdown",
      "metadata": {
        "id": "yWQiCUxmEVZy",
        "colab_type": "text"
      },
      "source": [
        "The F1 metric weights recall and precision equally, and a good retrieval algorithm will maximize both precision and recall simultaneously. Thus, moderately good performance on both will be favored over extremely good performance on one and poor performance on the other."
      ]
    },
    {
      "cell_type": "code",
      "metadata": {
        "id": "w-p79j4sEiCz",
        "colab_type": "code",
        "colab": {
          "base_uri": "https://localhost:8080/",
          "height": 340
        },
        "outputId": "b94049fe-0832-4421-844e-874b26409457"
      },
      "source": [
        "video_ids = ['HBS-DJ9ez-c', 'Als2PlILK9U']\n",
        "\n",
        "def embed_video(video_ids):\n",
        "  videos_str = \"\"\n",
        "  \n",
        "  for video_id in video_ids: \n",
        "    videos_str += (\n",
        "      f\"<iframe width='560' height='315' src='https://www.youtube.com/embed/{video_id}'.format(test)\" \\\n",
        "       \"frameborder='0' allow='accelerometer; autoplay; encrypted-media; gyroscope;\" \\\n",
        "       \" picture-in-picture' allowfullscreen></iframe>\"\n",
        "      )\n",
        "    \n",
        "  return HTML(videos_str)\n",
        "\n",
        "embed_video(video_ids)"
      ],
      "execution_count": 4,
      "outputs": [
        {
          "output_type": "execute_result",
          "data": {
            "text/html": [
              "<iframe width='560' height='315' src='https://www.youtube.com/embed/HBS-DJ9ez-c'.format(test)frameborder='0' allow='accelerometer; autoplay; encrypted-media; gyroscope; picture-in-picture' allowfullscreen></iframe><iframe width='560' height='315' src='https://www.youtube.com/embed/Als2PlILK9U'.format(test)frameborder='0' allow='accelerometer; autoplay; encrypted-media; gyroscope; picture-in-picture' allowfullscreen></iframe>"
            ],
            "text/plain": [
              "<IPython.core.display.HTML object>"
            ]
          },
          "metadata": {
            "tags": []
          },
          "execution_count": 4
        }
      ]
    }
  ]
}